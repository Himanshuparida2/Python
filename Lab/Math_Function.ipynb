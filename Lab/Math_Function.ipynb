{
 "cells": [
  {
   "cell_type": "code",
   "execution_count": 6,
   "id": "93420e27-6daa-4946-b633-0397140966b4",
   "metadata": {},
   "outputs": [
    {
     "name": "stdout",
     "output_type": "stream",
     "text": [
      "Floor Value Of 7.5 is 7\n",
      "Ceil Value of 7.5 is 8\n",
      "2 power of 3 is 8.0\n"
     ]
    }
   ],
   "source": [
    "import math\n",
    "print(F\"Floor Value Of 7.5 is {math.floor(7.5)}\")\n",
    "print(F\"Ceil Value of 7.5 is {math.ceil(7.5)}\")\n",
    "print(F\"2 power of 3 is {math.pow(2,3)}\")\n",
    "print(F\"Exponenial Value of 3 is{math.exp(3)}\")\n",
    "print(F\"Log Value of 10 is {math.log(10)}\")"
   ]
  },
  {
   "cell_type": "code",
   "execution_count": null,
   "id": "d3cbf15c-46c3-41e1-9248-2b9ae0858fd8",
   "metadata": {},
   "outputs": [],
   "source": []
  }
 ],
 "metadata": {
  "kernelspec": {
   "display_name": "Python 3 (ipykernel)",
   "language": "python",
   "name": "python3"
  },
  "language_info": {
   "codemirror_mode": {
    "name": "ipython",
    "version": 3
   },
   "file_extension": ".py",
   "mimetype": "text/x-python",
   "name": "python",
   "nbconvert_exporter": "python",
   "pygments_lexer": "ipython3",
   "version": "3.8.10"
  }
 },
 "nbformat": 4,
 "nbformat_minor": 5
}
